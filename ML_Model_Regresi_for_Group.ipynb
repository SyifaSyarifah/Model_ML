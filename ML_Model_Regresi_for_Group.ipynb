{
  "cells": [
    {
      "cell_type": "markdown",
      "source": [
        "# Import Libary"
      ],
      "metadata": {
        "id": "Iogt38Oa9yV9"
      }
    },
    {
      "cell_type": "code",
      "execution_count": null,
      "metadata": {
        "id": "d8IAtWPSRMTc"
      },
      "outputs": [],
      "source": [
        "import pandas as pd\n",
        "import numpy as np\n",
        "from sklearn.model_selection import train_test_split, GridSearchCV\n",
        "from sklearn.preprocessing import StandardScaler, MinMaxScaler, PolynomialFeatures\n",
        "from sklearn.linear_model import Ridge, Lasso\n",
        "from sklearn.ensemble import RandomForestRegressor\n",
        "from sklearn.metrics import r2_score\n",
        "from sklearn.model_selection import RandomizedSearchCV\n"
      ]
    },
    {
      "cell_type": "markdown",
      "source": [
        "# Download Dataset pada Google Drive"
      ],
      "metadata": {
        "id": "ITgdPGBI97qB"
      }
    },
    {
      "cell_type": "code",
      "execution_count": null,
      "metadata": {
        "colab": {
          "base_uri": "https://localhost:8080/"
        },
        "id": "QnUSN-cXmc1n",
        "outputId": "368ea8b8-1ff2-4f8e-bd79-47f6ba80e3c4"
      },
      "outputs": [
        {
          "output_type": "stream",
          "name": "stdout",
          "text": [
            "Downloading...\n",
            "From: https://drive.google.com/uc?id=1Ddsq6ZfM5qSa7NISqpChxTx--Ckk5ZXF\n",
            "To: /content/Dataset_Giziwise.csv\n",
            "\r  0% 0.00/104k [00:00<?, ?B/s]\r100% 104k/104k [00:00<00:00, 3.88MB/s]\n"
          ]
        }
      ],
      "source": [
        " !gdown 1Ddsq6ZfM5qSa7NISqpChxTx--Ckk5ZXF"
      ]
    },
    {
      "cell_type": "code",
      "execution_count": null,
      "metadata": {
        "id": "AgU43a_TRlM4"
      },
      "outputs": [],
      "source": [
        "# Load the dataset\n",
        "file_path = '/content/Dataset_Giziwise.csv'\n",
        "dataset = pd.read_csv(file_path, delimiter=';')"
      ]
    },
    {
      "cell_type": "markdown",
      "source": [
        "\n",
        "\n",
        "# Tampilkan Kolom dataset\n",
        "\n"
      ],
      "metadata": {
        "id": "vc87cXm9-Grs"
      }
    },
    {
      "cell_type": "code",
      "execution_count": null,
      "metadata": {
        "colab": {
          "base_uri": "https://localhost:8080/"
        },
        "id": "q1zfQoqBsZko",
        "outputId": "7353821c-fa30-4d69-d347-caf4bb915b42"
      },
      "outputs": [
        {
          "output_type": "execute_result",
          "data": {
            "text/plain": [
              "Index(['Kode', 'Nama_bahan', 'Sumber', 'Air', 'ENERGI', 'PROTEIN', 'LEMAK',\n",
              "       'KH', 'SERAT', 'ABU', 'KALSIUM', 'FOSFOR', 'BESI', 'NATRIUM', 'KALIUM',\n",
              "       'TEMBAGA', 'SENG', 'RETINOL', 'B-KAR', 'KAR -TOTAL', 'THIAMIN',\n",
              "       'RIBOFLAVIN', 'NIASIN', 'VIT_C', 'BDD'],\n",
              "      dtype='object')"
            ]
          },
          "metadata": {},
          "execution_count": 5
        }
      ],
      "source": [
        "dataset.columns"
      ]
    },
    {
      "cell_type": "markdown",
      "source": [
        "# Menampilkan sampel Data pada dataset"
      ],
      "metadata": {
        "id": "UDd5NNBX-cnE"
      }
    },
    {
      "cell_type": "code",
      "execution_count": null,
      "metadata": {
        "colab": {
          "base_uri": "https://localhost:8080/",
          "height": 392
        },
        "id": "namHkoxrschF",
        "outputId": "c591d66e-6d29-462e-b828-a7a8cf0dcf8d"
      },
      "outputs": [
        {
          "output_type": "execute_result",
          "data": {
            "text/plain": [
              "      Kode              Nama_bahan       Sumber    Air  ENERGI  PROTEIN LEMAK  \\\n",
              "754  GR063       ikan tarmon segar   KZGMI-2001   76.7      96     19.5   1.1   \n",
              "683  FP080     soto padang masakan   KZGPI-1990   75.0     127      5.9   6.6   \n",
              "921  KP002                margarin    DABM-1964   15.5     720      0.6    81   \n",
              "735  GR044    ikan malalugis segar   KZGMI-2001   75.6      99     20.6   1.4   \n",
              "115  AP095               padamaran   KZGMI-2001  676.0     171     39.0    89   \n",
              "269  CR026     kacang merah kering  KZGPI- l990  177.0     314    221.0    11   \n",
              "887  HP006  bayau mi balu\\nmasakan   KGZMI-2001   36.1     313      6.0  12.2   \n",
              "181  BP014      bagea kelapa manis   KZGMI-2001    3.0     452    138.0   806   \n",
              "734  GR043        ikan lidah segar  KZGPI- 1990   78.3     104     15.6   3.2   \n",
              "471  ER029             gatep segar  KZGPI- 1990   52.7     191      4.5   1.5   \n",
              "\n",
              "        KH  SERAT   ABU  ...  TEMBAGA  SENG  RETINOL B-KAR KAR -TOTAL  \\\n",
              "754    2.0    0.0   0.8  ...      0.1   0.5        0     0          0   \n",
              "683   11.0    0.7   2.0  ...      0.0     0       12     0        204   \n",
              "921    0.4    0.0   2.5  ...      0.0     0      606   633          0   \n",
              "735    0.9    0.0   1.5  ...      0.2   0.9      661     0          0   \n",
              "115  188.0    0.0   8.0  ...      0.0     0        0     0          0   \n",
              "269  562.0    4.0  29.0  ...     65.0    26        0   129          0   \n",
              "887   44.8    0.0   0.9  ...      0.0     0      783    89          0   \n",
              "181    0.0   13.0  38.0  ...      2.0     0        0     0          0   \n",
              "734    2.0    0.0   0.9  ...      0.0     0       33     0          0   \n",
              "471   39.7   13.4   1.6  ...      0.7   1.3        0    51          0   \n",
              "\n",
              "     THIAMIN RIBOFLAVIN  NIASIN VIT_C    BDD  \n",
              "754     0.15       0.02     1.7     0    0.0  \n",
              "683     0.22       0.00       0     0  100.0  \n",
              "921        0       0.00       0     0  100.0  \n",
              "735      0.3       0.02     0.5     0    0.0  \n",
              "115        0       0.00       0     0  100.0  \n",
              "269        4      72.00      22     0  100.0  \n",
              "887     0.14       0.27     9.7     0  100.0  \n",
              "181        0       0.00       0     0  100.0  \n",
              "734     0.03       0.00       0     0    0.0  \n",
              "471     0.05       0.20     1.8     0  100.0  \n",
              "\n",
              "[10 rows x 25 columns]"
            ],
            "text/html": [
              "\n",
              "  <div id=\"df-2e5864dc-6c1b-42a6-85a6-27e255150396\" class=\"colab-df-container\">\n",
              "    <div>\n",
              "<style scoped>\n",
              "    .dataframe tbody tr th:only-of-type {\n",
              "        vertical-align: middle;\n",
              "    }\n",
              "\n",
              "    .dataframe tbody tr th {\n",
              "        vertical-align: top;\n",
              "    }\n",
              "\n",
              "    .dataframe thead th {\n",
              "        text-align: right;\n",
              "    }\n",
              "</style>\n",
              "<table border=\"1\" class=\"dataframe\">\n",
              "  <thead>\n",
              "    <tr style=\"text-align: right;\">\n",
              "      <th></th>\n",
              "      <th>Kode</th>\n",
              "      <th>Nama_bahan</th>\n",
              "      <th>Sumber</th>\n",
              "      <th>Air</th>\n",
              "      <th>ENERGI</th>\n",
              "      <th>PROTEIN</th>\n",
              "      <th>LEMAK</th>\n",
              "      <th>KH</th>\n",
              "      <th>SERAT</th>\n",
              "      <th>ABU</th>\n",
              "      <th>...</th>\n",
              "      <th>TEMBAGA</th>\n",
              "      <th>SENG</th>\n",
              "      <th>RETINOL</th>\n",
              "      <th>B-KAR</th>\n",
              "      <th>KAR -TOTAL</th>\n",
              "      <th>THIAMIN</th>\n",
              "      <th>RIBOFLAVIN</th>\n",
              "      <th>NIASIN</th>\n",
              "      <th>VIT_C</th>\n",
              "      <th>BDD</th>\n",
              "    </tr>\n",
              "  </thead>\n",
              "  <tbody>\n",
              "    <tr>\n",
              "      <th>754</th>\n",
              "      <td>GR063</td>\n",
              "      <td>ikan tarmon segar</td>\n",
              "      <td>KZGMI-2001</td>\n",
              "      <td>76.7</td>\n",
              "      <td>96</td>\n",
              "      <td>19.5</td>\n",
              "      <td>1.1</td>\n",
              "      <td>2.0</td>\n",
              "      <td>0.0</td>\n",
              "      <td>0.8</td>\n",
              "      <td>...</td>\n",
              "      <td>0.1</td>\n",
              "      <td>0.5</td>\n",
              "      <td>0</td>\n",
              "      <td>0</td>\n",
              "      <td>0</td>\n",
              "      <td>0.15</td>\n",
              "      <td>0.02</td>\n",
              "      <td>1.7</td>\n",
              "      <td>0</td>\n",
              "      <td>0.0</td>\n",
              "    </tr>\n",
              "    <tr>\n",
              "      <th>683</th>\n",
              "      <td>FP080</td>\n",
              "      <td>soto padang masakan</td>\n",
              "      <td>KZGPI-1990</td>\n",
              "      <td>75.0</td>\n",
              "      <td>127</td>\n",
              "      <td>5.9</td>\n",
              "      <td>6.6</td>\n",
              "      <td>11.0</td>\n",
              "      <td>0.7</td>\n",
              "      <td>2.0</td>\n",
              "      <td>...</td>\n",
              "      <td>0.0</td>\n",
              "      <td>0</td>\n",
              "      <td>12</td>\n",
              "      <td>0</td>\n",
              "      <td>204</td>\n",
              "      <td>0.22</td>\n",
              "      <td>0.00</td>\n",
              "      <td>0</td>\n",
              "      <td>0</td>\n",
              "      <td>100.0</td>\n",
              "    </tr>\n",
              "    <tr>\n",
              "      <th>921</th>\n",
              "      <td>KP002</td>\n",
              "      <td>margarin</td>\n",
              "      <td>DABM-1964</td>\n",
              "      <td>15.5</td>\n",
              "      <td>720</td>\n",
              "      <td>0.6</td>\n",
              "      <td>81</td>\n",
              "      <td>0.4</td>\n",
              "      <td>0.0</td>\n",
              "      <td>2.5</td>\n",
              "      <td>...</td>\n",
              "      <td>0.0</td>\n",
              "      <td>0</td>\n",
              "      <td>606</td>\n",
              "      <td>633</td>\n",
              "      <td>0</td>\n",
              "      <td>0</td>\n",
              "      <td>0.00</td>\n",
              "      <td>0</td>\n",
              "      <td>0</td>\n",
              "      <td>100.0</td>\n",
              "    </tr>\n",
              "    <tr>\n",
              "      <th>735</th>\n",
              "      <td>GR044</td>\n",
              "      <td>ikan malalugis segar</td>\n",
              "      <td>KZGMI-2001</td>\n",
              "      <td>75.6</td>\n",
              "      <td>99</td>\n",
              "      <td>20.6</td>\n",
              "      <td>1.4</td>\n",
              "      <td>0.9</td>\n",
              "      <td>0.0</td>\n",
              "      <td>1.5</td>\n",
              "      <td>...</td>\n",
              "      <td>0.2</td>\n",
              "      <td>0.9</td>\n",
              "      <td>661</td>\n",
              "      <td>0</td>\n",
              "      <td>0</td>\n",
              "      <td>0.3</td>\n",
              "      <td>0.02</td>\n",
              "      <td>0.5</td>\n",
              "      <td>0</td>\n",
              "      <td>0.0</td>\n",
              "    </tr>\n",
              "    <tr>\n",
              "      <th>115</th>\n",
              "      <td>AP095</td>\n",
              "      <td>padamaran</td>\n",
              "      <td>KZGMI-2001</td>\n",
              "      <td>676.0</td>\n",
              "      <td>171</td>\n",
              "      <td>39.0</td>\n",
              "      <td>89</td>\n",
              "      <td>188.0</td>\n",
              "      <td>0.0</td>\n",
              "      <td>8.0</td>\n",
              "      <td>...</td>\n",
              "      <td>0.0</td>\n",
              "      <td>0</td>\n",
              "      <td>0</td>\n",
              "      <td>0</td>\n",
              "      <td>0</td>\n",
              "      <td>0</td>\n",
              "      <td>0.00</td>\n",
              "      <td>0</td>\n",
              "      <td>0</td>\n",
              "      <td>100.0</td>\n",
              "    </tr>\n",
              "    <tr>\n",
              "      <th>269</th>\n",
              "      <td>CR026</td>\n",
              "      <td>kacang merah kering</td>\n",
              "      <td>KZGPI- l990</td>\n",
              "      <td>177.0</td>\n",
              "      <td>314</td>\n",
              "      <td>221.0</td>\n",
              "      <td>11</td>\n",
              "      <td>562.0</td>\n",
              "      <td>4.0</td>\n",
              "      <td>29.0</td>\n",
              "      <td>...</td>\n",
              "      <td>65.0</td>\n",
              "      <td>26</td>\n",
              "      <td>0</td>\n",
              "      <td>129</td>\n",
              "      <td>0</td>\n",
              "      <td>4</td>\n",
              "      <td>72.00</td>\n",
              "      <td>22</td>\n",
              "      <td>0</td>\n",
              "      <td>100.0</td>\n",
              "    </tr>\n",
              "    <tr>\n",
              "      <th>887</th>\n",
              "      <td>HP006</td>\n",
              "      <td>bayau mi balu\\nmasakan</td>\n",
              "      <td>KGZMI-2001</td>\n",
              "      <td>36.1</td>\n",
              "      <td>313</td>\n",
              "      <td>6.0</td>\n",
              "      <td>12.2</td>\n",
              "      <td>44.8</td>\n",
              "      <td>0.0</td>\n",
              "      <td>0.9</td>\n",
              "      <td>...</td>\n",
              "      <td>0.0</td>\n",
              "      <td>0</td>\n",
              "      <td>783</td>\n",
              "      <td>89</td>\n",
              "      <td>0</td>\n",
              "      <td>0.14</td>\n",
              "      <td>0.27</td>\n",
              "      <td>9.7</td>\n",
              "      <td>0</td>\n",
              "      <td>100.0</td>\n",
              "    </tr>\n",
              "    <tr>\n",
              "      <th>181</th>\n",
              "      <td>BP014</td>\n",
              "      <td>bagea kelapa manis</td>\n",
              "      <td>KZGMI-2001</td>\n",
              "      <td>3.0</td>\n",
              "      <td>452</td>\n",
              "      <td>138.0</td>\n",
              "      <td>806</td>\n",
              "      <td>0.0</td>\n",
              "      <td>13.0</td>\n",
              "      <td>38.0</td>\n",
              "      <td>...</td>\n",
              "      <td>2.0</td>\n",
              "      <td>0</td>\n",
              "      <td>0</td>\n",
              "      <td>0</td>\n",
              "      <td>0</td>\n",
              "      <td>0</td>\n",
              "      <td>0.00</td>\n",
              "      <td>0</td>\n",
              "      <td>0</td>\n",
              "      <td>100.0</td>\n",
              "    </tr>\n",
              "    <tr>\n",
              "      <th>734</th>\n",
              "      <td>GR043</td>\n",
              "      <td>ikan lidah segar</td>\n",
              "      <td>KZGPI- 1990</td>\n",
              "      <td>78.3</td>\n",
              "      <td>104</td>\n",
              "      <td>15.6</td>\n",
              "      <td>3.2</td>\n",
              "      <td>2.0</td>\n",
              "      <td>0.0</td>\n",
              "      <td>0.9</td>\n",
              "      <td>...</td>\n",
              "      <td>0.0</td>\n",
              "      <td>0</td>\n",
              "      <td>33</td>\n",
              "      <td>0</td>\n",
              "      <td>0</td>\n",
              "      <td>0.03</td>\n",
              "      <td>0.00</td>\n",
              "      <td>0</td>\n",
              "      <td>0</td>\n",
              "      <td>0.0</td>\n",
              "    </tr>\n",
              "    <tr>\n",
              "      <th>471</th>\n",
              "      <td>ER029</td>\n",
              "      <td>gatep segar</td>\n",
              "      <td>KZGPI- 1990</td>\n",
              "      <td>52.7</td>\n",
              "      <td>191</td>\n",
              "      <td>4.5</td>\n",
              "      <td>1.5</td>\n",
              "      <td>39.7</td>\n",
              "      <td>13.4</td>\n",
              "      <td>1.6</td>\n",
              "      <td>...</td>\n",
              "      <td>0.7</td>\n",
              "      <td>1.3</td>\n",
              "      <td>0</td>\n",
              "      <td>51</td>\n",
              "      <td>0</td>\n",
              "      <td>0.05</td>\n",
              "      <td>0.20</td>\n",
              "      <td>1.8</td>\n",
              "      <td>0</td>\n",
              "      <td>100.0</td>\n",
              "    </tr>\n",
              "  </tbody>\n",
              "</table>\n",
              "<p>10 rows × 25 columns</p>\n",
              "</div>\n",
              "    <div class=\"colab-df-buttons\">\n",
              "\n",
              "  <div class=\"colab-df-container\">\n",
              "    <button class=\"colab-df-convert\" onclick=\"convertToInteractive('df-2e5864dc-6c1b-42a6-85a6-27e255150396')\"\n",
              "            title=\"Convert this dataframe to an interactive table.\"\n",
              "            style=\"display:none;\">\n",
              "\n",
              "  <svg xmlns=\"http://www.w3.org/2000/svg\" height=\"24px\" viewBox=\"0 -960 960 960\">\n",
              "    <path d=\"M120-120v-720h720v720H120Zm60-500h600v-160H180v160Zm220 220h160v-160H400v160Zm0 220h160v-160H400v160ZM180-400h160v-160H180v160Zm440 0h160v-160H620v160ZM180-180h160v-160H180v160Zm440 0h160v-160H620v160Z\"/>\n",
              "  </svg>\n",
              "    </button>\n",
              "\n",
              "  <style>\n",
              "    .colab-df-container {\n",
              "      display:flex;\n",
              "      gap: 12px;\n",
              "    }\n",
              "\n",
              "    .colab-df-convert {\n",
              "      background-color: #E8F0FE;\n",
              "      border: none;\n",
              "      border-radius: 50%;\n",
              "      cursor: pointer;\n",
              "      display: none;\n",
              "      fill: #1967D2;\n",
              "      height: 32px;\n",
              "      padding: 0 0 0 0;\n",
              "      width: 32px;\n",
              "    }\n",
              "\n",
              "    .colab-df-convert:hover {\n",
              "      background-color: #E2EBFA;\n",
              "      box-shadow: 0px 1px 2px rgba(60, 64, 67, 0.3), 0px 1px 3px 1px rgba(60, 64, 67, 0.15);\n",
              "      fill: #174EA6;\n",
              "    }\n",
              "\n",
              "    .colab-df-buttons div {\n",
              "      margin-bottom: 4px;\n",
              "    }\n",
              "\n",
              "    [theme=dark] .colab-df-convert {\n",
              "      background-color: #3B4455;\n",
              "      fill: #D2E3FC;\n",
              "    }\n",
              "\n",
              "    [theme=dark] .colab-df-convert:hover {\n",
              "      background-color: #434B5C;\n",
              "      box-shadow: 0px 1px 3px 1px rgba(0, 0, 0, 0.15);\n",
              "      filter: drop-shadow(0px 1px 2px rgba(0, 0, 0, 0.3));\n",
              "      fill: #FFFFFF;\n",
              "    }\n",
              "  </style>\n",
              "\n",
              "    <script>\n",
              "      const buttonEl =\n",
              "        document.querySelector('#df-2e5864dc-6c1b-42a6-85a6-27e255150396 button.colab-df-convert');\n",
              "      buttonEl.style.display =\n",
              "        google.colab.kernel.accessAllowed ? 'block' : 'none';\n",
              "\n",
              "      async function convertToInteractive(key) {\n",
              "        const element = document.querySelector('#df-2e5864dc-6c1b-42a6-85a6-27e255150396');\n",
              "        const dataTable =\n",
              "          await google.colab.kernel.invokeFunction('convertToInteractive',\n",
              "                                                    [key], {});\n",
              "        if (!dataTable) return;\n",
              "\n",
              "        const docLinkHtml = 'Like what you see? Visit the ' +\n",
              "          '<a target=\"_blank\" href=https://colab.research.google.com/notebooks/data_table.ipynb>data table notebook</a>'\n",
              "          + ' to learn more about interactive tables.';\n",
              "        element.innerHTML = '';\n",
              "        dataTable['output_type'] = 'display_data';\n",
              "        await google.colab.output.renderOutput(dataTable, element);\n",
              "        const docLink = document.createElement('div');\n",
              "        docLink.innerHTML = docLinkHtml;\n",
              "        element.appendChild(docLink);\n",
              "      }\n",
              "    </script>\n",
              "  </div>\n",
              "\n",
              "\n",
              "<div id=\"df-1b4e097e-2ad6-4acc-85fb-c6053f3d2142\">\n",
              "  <button class=\"colab-df-quickchart\" onclick=\"quickchart('df-1b4e097e-2ad6-4acc-85fb-c6053f3d2142')\"\n",
              "            title=\"Suggest charts\"\n",
              "            style=\"display:none;\">\n",
              "\n",
              "<svg xmlns=\"http://www.w3.org/2000/svg\" height=\"24px\"viewBox=\"0 0 24 24\"\n",
              "     width=\"24px\">\n",
              "    <g>\n",
              "        <path d=\"M19 3H5c-1.1 0-2 .9-2 2v14c0 1.1.9 2 2 2h14c1.1 0 2-.9 2-2V5c0-1.1-.9-2-2-2zM9 17H7v-7h2v7zm4 0h-2V7h2v10zm4 0h-2v-4h2v4z\"/>\n",
              "    </g>\n",
              "</svg>\n",
              "  </button>\n",
              "\n",
              "<style>\n",
              "  .colab-df-quickchart {\n",
              "      --bg-color: #E8F0FE;\n",
              "      --fill-color: #1967D2;\n",
              "      --hover-bg-color: #E2EBFA;\n",
              "      --hover-fill-color: #174EA6;\n",
              "      --disabled-fill-color: #AAA;\n",
              "      --disabled-bg-color: #DDD;\n",
              "  }\n",
              "\n",
              "  [theme=dark] .colab-df-quickchart {\n",
              "      --bg-color: #3B4455;\n",
              "      --fill-color: #D2E3FC;\n",
              "      --hover-bg-color: #434B5C;\n",
              "      --hover-fill-color: #FFFFFF;\n",
              "      --disabled-bg-color: #3B4455;\n",
              "      --disabled-fill-color: #666;\n",
              "  }\n",
              "\n",
              "  .colab-df-quickchart {\n",
              "    background-color: var(--bg-color);\n",
              "    border: none;\n",
              "    border-radius: 50%;\n",
              "    cursor: pointer;\n",
              "    display: none;\n",
              "    fill: var(--fill-color);\n",
              "    height: 32px;\n",
              "    padding: 0;\n",
              "    width: 32px;\n",
              "  }\n",
              "\n",
              "  .colab-df-quickchart:hover {\n",
              "    background-color: var(--hover-bg-color);\n",
              "    box-shadow: 0 1px 2px rgba(60, 64, 67, 0.3), 0 1px 3px 1px rgba(60, 64, 67, 0.15);\n",
              "    fill: var(--button-hover-fill-color);\n",
              "  }\n",
              "\n",
              "  .colab-df-quickchart-complete:disabled,\n",
              "  .colab-df-quickchart-complete:disabled:hover {\n",
              "    background-color: var(--disabled-bg-color);\n",
              "    fill: var(--disabled-fill-color);\n",
              "    box-shadow: none;\n",
              "  }\n",
              "\n",
              "  .colab-df-spinner {\n",
              "    border: 2px solid var(--fill-color);\n",
              "    border-color: transparent;\n",
              "    border-bottom-color: var(--fill-color);\n",
              "    animation:\n",
              "      spin 1s steps(1) infinite;\n",
              "  }\n",
              "\n",
              "  @keyframes spin {\n",
              "    0% {\n",
              "      border-color: transparent;\n",
              "      border-bottom-color: var(--fill-color);\n",
              "      border-left-color: var(--fill-color);\n",
              "    }\n",
              "    20% {\n",
              "      border-color: transparent;\n",
              "      border-left-color: var(--fill-color);\n",
              "      border-top-color: var(--fill-color);\n",
              "    }\n",
              "    30% {\n",
              "      border-color: transparent;\n",
              "      border-left-color: var(--fill-color);\n",
              "      border-top-color: var(--fill-color);\n",
              "      border-right-color: var(--fill-color);\n",
              "    }\n",
              "    40% {\n",
              "      border-color: transparent;\n",
              "      border-right-color: var(--fill-color);\n",
              "      border-top-color: var(--fill-color);\n",
              "    }\n",
              "    60% {\n",
              "      border-color: transparent;\n",
              "      border-right-color: var(--fill-color);\n",
              "    }\n",
              "    80% {\n",
              "      border-color: transparent;\n",
              "      border-right-color: var(--fill-color);\n",
              "      border-bottom-color: var(--fill-color);\n",
              "    }\n",
              "    90% {\n",
              "      border-color: transparent;\n",
              "      border-bottom-color: var(--fill-color);\n",
              "    }\n",
              "  }\n",
              "</style>\n",
              "\n",
              "  <script>\n",
              "    async function quickchart(key) {\n",
              "      const quickchartButtonEl =\n",
              "        document.querySelector('#' + key + ' button');\n",
              "      quickchartButtonEl.disabled = true;  // To prevent multiple clicks.\n",
              "      quickchartButtonEl.classList.add('colab-df-spinner');\n",
              "      try {\n",
              "        const charts = await google.colab.kernel.invokeFunction(\n",
              "            'suggestCharts', [key], {});\n",
              "      } catch (error) {\n",
              "        console.error('Error during call to suggestCharts:', error);\n",
              "      }\n",
              "      quickchartButtonEl.classList.remove('colab-df-spinner');\n",
              "      quickchartButtonEl.classList.add('colab-df-quickchart-complete');\n",
              "    }\n",
              "    (() => {\n",
              "      let quickchartButtonEl =\n",
              "        document.querySelector('#df-1b4e097e-2ad6-4acc-85fb-c6053f3d2142 button');\n",
              "      quickchartButtonEl.style.display =\n",
              "        google.colab.kernel.accessAllowed ? 'block' : 'none';\n",
              "    })();\n",
              "  </script>\n",
              "</div>\n",
              "    </div>\n",
              "  </div>\n"
            ],
            "application/vnd.google.colaboratory.intrinsic+json": {
              "type": "dataframe"
            }
          },
          "metadata": {},
          "execution_count": 6
        }
      ],
      "source": [
        "dataset.sample(10)"
      ]
    },
    {
      "cell_type": "markdown",
      "source": [
        "# Prosesing"
      ],
      "metadata": {
        "id": "kMCxNl5YBuGL"
      }
    },
    {
      "cell_type": "code",
      "execution_count": null,
      "metadata": {
        "colab": {
          "base_uri": "https://localhost:8080/",
          "height": 98
        },
        "id": "l0jtyAT7sx8P",
        "outputId": "cd3a91c1-78c4-4c79-deb3-d45d52bff0d4"
      },
      "outputs": [
        {
          "name": "stdout",
          "output_type": "stream",
          "text": [
            "Masukkan nama makanan: ikan lidah segar\n"
          ]
        },
        {
          "output_type": "execute_result",
          "data": {
            "text/plain": [
              "           Nama_bahan  ENERGI  PROTEIN LEMAK\n",
              "734  ikan lidah segar     104     15.6   3.2"
            ],
            "text/html": [
              "\n",
              "  <div id=\"df-2315e5c8-3bad-4098-96b1-d077321d6473\" class=\"colab-df-container\">\n",
              "    <div>\n",
              "<style scoped>\n",
              "    .dataframe tbody tr th:only-of-type {\n",
              "        vertical-align: middle;\n",
              "    }\n",
              "\n",
              "    .dataframe tbody tr th {\n",
              "        vertical-align: top;\n",
              "    }\n",
              "\n",
              "    .dataframe thead th {\n",
              "        text-align: right;\n",
              "    }\n",
              "</style>\n",
              "<table border=\"1\" class=\"dataframe\">\n",
              "  <thead>\n",
              "    <tr style=\"text-align: right;\">\n",
              "      <th></th>\n",
              "      <th>Nama_bahan</th>\n",
              "      <th>ENERGI</th>\n",
              "      <th>PROTEIN</th>\n",
              "      <th>LEMAK</th>\n",
              "    </tr>\n",
              "  </thead>\n",
              "  <tbody>\n",
              "    <tr>\n",
              "      <th>734</th>\n",
              "      <td>ikan lidah segar</td>\n",
              "      <td>104</td>\n",
              "      <td>15.6</td>\n",
              "      <td>3.2</td>\n",
              "    </tr>\n",
              "  </tbody>\n",
              "</table>\n",
              "</div>\n",
              "    <div class=\"colab-df-buttons\">\n",
              "\n",
              "  <div class=\"colab-df-container\">\n",
              "    <button class=\"colab-df-convert\" onclick=\"convertToInteractive('df-2315e5c8-3bad-4098-96b1-d077321d6473')\"\n",
              "            title=\"Convert this dataframe to an interactive table.\"\n",
              "            style=\"display:none;\">\n",
              "\n",
              "  <svg xmlns=\"http://www.w3.org/2000/svg\" height=\"24px\" viewBox=\"0 -960 960 960\">\n",
              "    <path d=\"M120-120v-720h720v720H120Zm60-500h600v-160H180v160Zm220 220h160v-160H400v160Zm0 220h160v-160H400v160ZM180-400h160v-160H180v160Zm440 0h160v-160H620v160ZM180-180h160v-160H180v160Zm440 0h160v-160H620v160Z\"/>\n",
              "  </svg>\n",
              "    </button>\n",
              "\n",
              "  <style>\n",
              "    .colab-df-container {\n",
              "      display:flex;\n",
              "      gap: 12px;\n",
              "    }\n",
              "\n",
              "    .colab-df-convert {\n",
              "      background-color: #E8F0FE;\n",
              "      border: none;\n",
              "      border-radius: 50%;\n",
              "      cursor: pointer;\n",
              "      display: none;\n",
              "      fill: #1967D2;\n",
              "      height: 32px;\n",
              "      padding: 0 0 0 0;\n",
              "      width: 32px;\n",
              "    }\n",
              "\n",
              "    .colab-df-convert:hover {\n",
              "      background-color: #E2EBFA;\n",
              "      box-shadow: 0px 1px 2px rgba(60, 64, 67, 0.3), 0px 1px 3px 1px rgba(60, 64, 67, 0.15);\n",
              "      fill: #174EA6;\n",
              "    }\n",
              "\n",
              "    .colab-df-buttons div {\n",
              "      margin-bottom: 4px;\n",
              "    }\n",
              "\n",
              "    [theme=dark] .colab-df-convert {\n",
              "      background-color: #3B4455;\n",
              "      fill: #D2E3FC;\n",
              "    }\n",
              "\n",
              "    [theme=dark] .colab-df-convert:hover {\n",
              "      background-color: #434B5C;\n",
              "      box-shadow: 0px 1px 3px 1px rgba(0, 0, 0, 0.15);\n",
              "      filter: drop-shadow(0px 1px 2px rgba(0, 0, 0, 0.3));\n",
              "      fill: #FFFFFF;\n",
              "    }\n",
              "  </style>\n",
              "\n",
              "    <script>\n",
              "      const buttonEl =\n",
              "        document.querySelector('#df-2315e5c8-3bad-4098-96b1-d077321d6473 button.colab-df-convert');\n",
              "      buttonEl.style.display =\n",
              "        google.colab.kernel.accessAllowed ? 'block' : 'none';\n",
              "\n",
              "      async function convertToInteractive(key) {\n",
              "        const element = document.querySelector('#df-2315e5c8-3bad-4098-96b1-d077321d6473');\n",
              "        const dataTable =\n",
              "          await google.colab.kernel.invokeFunction('convertToInteractive',\n",
              "                                                    [key], {});\n",
              "        if (!dataTable) return;\n",
              "\n",
              "        const docLinkHtml = 'Like what you see? Visit the ' +\n",
              "          '<a target=\"_blank\" href=https://colab.research.google.com/notebooks/data_table.ipynb>data table notebook</a>'\n",
              "          + ' to learn more about interactive tables.';\n",
              "        element.innerHTML = '';\n",
              "        dataTable['output_type'] = 'display_data';\n",
              "        await google.colab.output.renderOutput(dataTable, element);\n",
              "        const docLink = document.createElement('div');\n",
              "        docLink.innerHTML = docLinkHtml;\n",
              "        element.appendChild(docLink);\n",
              "      }\n",
              "    </script>\n",
              "  </div>\n",
              "\n",
              "    </div>\n",
              "  </div>\n"
            ],
            "application/vnd.google.colaboratory.intrinsic+json": {
              "type": "dataframe",
              "summary": "{\n  \"name\": \"searched_data[['Nama_bahan','ENERGI','PROTEIN','LEMAK']]\",\n  \"rows\": 1,\n  \"fields\": [\n    {\n      \"column\": \"Nama_bahan\",\n      \"properties\": {\n        \"dtype\": \"string\",\n        \"num_unique_values\": 1,\n        \"samples\": [\n          \"ikan lidah segar\"\n        ],\n        \"semantic_type\": \"\",\n        \"description\": \"\"\n      }\n    },\n    {\n      \"column\": \"ENERGI\",\n      \"properties\": {\n        \"dtype\": \"number\",\n        \"std\": null,\n        \"min\": 104,\n        \"max\": 104,\n        \"num_unique_values\": 1,\n        \"samples\": [\n          104\n        ],\n        \"semantic_type\": \"\",\n        \"description\": \"\"\n      }\n    },\n    {\n      \"column\": \"PROTEIN\",\n      \"properties\": {\n        \"dtype\": \"number\",\n        \"std\": null,\n        \"min\": 15.6,\n        \"max\": 15.6,\n        \"num_unique_values\": 1,\n        \"samples\": [\n          15.6\n        ],\n        \"semantic_type\": \"\",\n        \"description\": \"\"\n      }\n    },\n    {\n      \"column\": \"LEMAK\",\n      \"properties\": {\n        \"dtype\": \"string\",\n        \"num_unique_values\": 1,\n        \"samples\": [\n          \"3.2\"\n        ],\n        \"semantic_type\": \"\",\n        \"description\": \"\"\n      }\n    }\n  ]\n}"
            }
          },
          "metadata": {},
          "execution_count": 7
        }
      ],
      "source": [
        "nama_makanan = input(\"Masukkan nama makanan: \")\n",
        "searched_data =  dataset[dataset[\"Nama_bahan\"] == nama_makanan]\n",
        "searched_data[['Nama_bahan','ENERGI','PROTEIN','LEMAK']]"
      ]
    },
    {
      "cell_type": "code",
      "execution_count": null,
      "metadata": {
        "id": "D7O_ksRbRsJk"
      },
      "outputs": [],
      "source": [
        "# Converting columns to numeric, coercing errors to NaN\n",
        "columns_to_convert = ['Air', 'PROTEIN', 'LEMAK', 'KH', 'SERAT', 'ABU', 'KALSIUM', 'FOSFOR',\n",
        "                      'BESI', 'NATRIUM', 'KALIUM', 'TEMBAGA', 'SENG', 'RETINOL', 'B-KAR',\n",
        "                      'KAR -TOTAL', 'THIAMIN', 'RIBOFLAVIN', 'NIASIN', 'VIT_C', 'BDD']\n",
        "dataset[columns_to_convert] = dataset[columns_to_convert].apply(pd.to_numeric, errors='coerce')"
      ]
    },
    {
      "cell_type": "code",
      "execution_count": null,
      "metadata": {
        "id": "lWwagljczrmz"
      },
      "outputs": [],
      "source": [
        "# Dropping rows with any NaN values after conversion\n",
        "dataset_cleaned = dataset.dropna()"
      ]
    },
    {
      "cell_type": "code",
      "execution_count": null,
      "metadata": {
        "id": "YCOanGcezvsw"
      },
      "outputs": [],
      "source": [
        "# Feature Engineering: Polynomial Features\n",
        "poly = PolynomialFeatures(degree=2, interaction_only=True, include_bias=False)\n",
        "features_poly = poly.fit_transform(dataset_cleaned[columns_to_convert])\n",
        "features = pd.DataFrame(features_poly, columns=poly.get_feature_names_out(columns_to_convert))\n",
        "\n",
        "target = dataset_cleaned['ENERGI']"
      ]
    },
    {
      "cell_type": "code",
      "execution_count": null,
      "metadata": {
        "id": "0HYM-tZczyA3"
      },
      "outputs": [],
      "source": [
        "# Scaling the features\n",
        "scaler = StandardScaler()\n",
        "X_scaled = scaler.fit_transform(features)"
      ]
    },
    {
      "cell_type": "code",
      "execution_count": null,
      "metadata": {
        "id": "tW95-p5rz3kx"
      },
      "outputs": [],
      "source": [
        "# Scaling the target\n",
        "target_scaler = MinMaxScaler()\n",
        "target_scaled = target_scaler.fit_transform(target.values.reshape(-1, 1))"
      ]
    },
    {
      "cell_type": "code",
      "execution_count": null,
      "metadata": {
        "id": "Vd0AO-PZz5Gb"
      },
      "outputs": [],
      "source": [
        "# Memisahkan data menjadi set pelatihan dan pengujian\n",
        "X_train, X_test, y_train, y_test = train_test_split(X_scaled, target_scaled, test_size=0.2, random_state=42)"
      ]
    },
    {
      "cell_type": "code",
      "execution_count": null,
      "metadata": {
        "id": "3KGfQGJNT7Uf"
      },
      "outputs": [],
      "source": [
        "# Hyperparameter grid\n",
        "param_dist_rf = {\n",
        "    'n_estimators': [100, 200, 300, 400, 500],\n",
        "    'max_depth': [10, 20, 30, 40, 50],\n",
        "    'min_samples_split': [2, 5, 10],\n",
        "    'min_samples_leaf': [1, 2, 4],\n",
        "    'bootstrap': [True, False]\n",
        "}"
      ]
    },
    {
      "cell_type": "code",
      "execution_count": null,
      "metadata": {
        "id": "5LHrLMcbT-9Q",
        "colab": {
          "base_uri": "https://localhost:8080/"
        },
        "outputId": "43cdcae9-07c3-4dc2-f8fb-658fedd9d616"
      },
      "outputs": [
        {
          "output_type": "stream",
          "name": "stdout",
          "text": [
            "Fitting 5 folds for each of 100 candidates, totalling 500 fits\n",
            "Random Forest Tuned Accuracy with Randomized Search: 0.8877593928158951\n"
          ]
        }
      ],
      "source": [
        "# Randomized search\n",
        "random_search_rf = RandomizedSearchCV(estimator=RandomForestRegressor(random_state=42),\n",
        "                                      param_distributions=param_dist_rf,\n",
        "                                      n_iter=100, cv=5, verbose=2, random_state=42, n_jobs=-1)\n",
        "\n",
        "random_search_rf.fit(X_train, y_train.ravel())\n",
        "best_rf_model = random_search_rf.best_estimator_\n",
        "y_pred_rf = best_rf_model.predict(X_test)\n",
        "rf_accuracy = r2_score(y_test, y_pred_rf)\n",
        "\n",
        "print(\"Random Forest Tuned Accuracy with Randomized Search:\", rf_accuracy)"
      ]
    },
    {
      "cell_type": "markdown",
      "source": [
        "# Prediksi Nilai Nutrisi"
      ],
      "metadata": {
        "id": "IneyF7jrB4Ak"
      }
    },
    {
      "cell_type": "code",
      "execution_count": null,
      "metadata": {
        "id": "XOJar73jVJcE"
      },
      "outputs": [],
      "source": [
        "def predictor(nama_makanan: str, dataset: pd.DataFrame, scaler, model, target_scaler, poly, portion_size: float) -> pd.DataFrame:\n",
        "    searched_data = dataset[dataset[\"Nama_bahan\"] == nama_makanan]\n",
        "    if searched_data.empty:\n",
        "        raise ValueError(f\"No data found for the food item: {nama_makanan}\")\n",
        "\n",
        "    numeric_value = searched_data[columns_to_convert].to_numpy()\n",
        "    numeric_value_df = pd.DataFrame(numeric_value, columns=columns_to_convert)  # Buat DataFrame dengan nama kolom yang benar\n",
        "    numeric_value_poly = poly.transform(numeric_value_df)\n",
        "    numeric_value_poly_df = pd.DataFrame(numeric_value_poly, columns=poly.get_feature_names_out(columns_to_convert))  # Tambahkan ini\n",
        "    numeric_value_scaled = scaler.transform(numeric_value_poly_df)  # Ubah ini\n",
        "    energi_scaled = model.predict(numeric_value_scaled)\n",
        "    energi = target_scaler.inverse_transform(energi_scaled.reshape(-1, 1))\n",
        "\n",
        "    predicted_nutrition = pd.DataFrame({\n",
        "        'ENERGI': np.round(energi.flatten() * (portion_size / 100), 2),\n",
        "        'PROTEIN': np.round(searched_data['PROTEIN'].values * (portion_size / 100), 2),\n",
        "        'LEMAK': np.round(searched_data['LEMAK'].values * (portion_size / 100), 2)\n",
        "    })\n",
        "\n",
        "    return predicted_nutrition"
      ]
    },
    {
      "cell_type": "markdown",
      "source": [
        "# Result or Model Testing"
      ],
      "metadata": {
        "id": "WByP0HECB-IH"
      }
    },
    {
      "cell_type": "code",
      "execution_count": null,
      "metadata": {
        "id": "RBAqRHAHVi3D",
        "colab": {
          "base_uri": "https://localhost:8080/"
        },
        "outputId": "ae1da948-e505-44b5-ad00-b896f788f903"
      },
      "outputs": [
        {
          "output_type": "stream",
          "name": "stdout",
          "text": [
            "Masukkan nama makanan: mi basah\n",
            "Enter portion size (in grams): 100\n",
            "Predicted nutritional values for 'mi basah' (portion size: 100.0g):\n",
            "   ENERGI  PROTEIN  LEMAK\n",
            "0  145.62      6.0   33.0\n"
          ]
        }
      ],
      "source": [
        "nama_makanan = input(\"Masukkan nama makanan: \")\n",
        "portion_size = float(input(\"Enter portion size (in grams): \"))\n",
        "\n",
        "try:\n",
        "    result = predictor(nama_makanan, dataset_cleaned, scaler, best_rf_model, target_scaler, poly, portion_size)\n",
        "    print(f\"Predicted nutritional values for '{nama_makanan}' (portion size: {portion_size}g):\")\n",
        "    print(result[['ENERGI', 'PROTEIN', 'LEMAK']])\n",
        "except ValueError as e:\n",
        "    print(e)"
      ]
    },
    {
      "cell_type": "code",
      "execution_count": null,
      "metadata": {
        "id": "FsXuQWKdklW8",
        "colab": {
          "base_uri": "https://localhost:8080/"
        },
        "outputId": "058dca99-97bc-4931-d2a3-cfc0455c89d4"
      },
      "outputs": [
        {
          "output_type": "stream",
          "name": "stdout",
          "text": [
            "Model saved to best_rf_model.pkl and architecture to best_rf_model_architecture.json\n"
          ]
        }
      ],
      "source": [
        "import joblib\n",
        "import json\n",
        "\n",
        "# Save model\n",
        "model_filename = 'best_rf_model.pkl'\n",
        "joblib.dump(best_rf_model, model_filename)\n",
        "\n",
        "# Save JSON file\n",
        "model_architecture = best_rf_model.get_params()\n",
        "model_architecture_filename = 'best_rf_model_architecture.json'\n",
        "with open(model_architecture_filename, 'w') as json_file:\n",
        "    json.dump(model_architecture, json_file)\n",
        "\n",
        "print(f\"Model saved to {model_filename} and architecture to {model_architecture_filename}\")"
      ]
    },
    {
      "cell_type": "markdown",
      "source": [
        "# Cek MAE & MSE"
      ],
      "metadata": {
        "id": "C2fucU1sCp5B"
      }
    },
    {
      "cell_type": "code",
      "execution_count": null,
      "metadata": {
        "id": "EUHaNWxCQz3V",
        "colab": {
          "base_uri": "https://localhost:8080/"
        },
        "outputId": "8cf4e1c0-33c2-42d9-aa5b-5343c803df11"
      },
      "outputs": [
        {
          "output_type": "stream",
          "name": "stdout",
          "text": [
            "Mean Absolute Error (MAE): 0.03702824951074751\n"
          ]
        }
      ],
      "source": [
        "# Import library yang diperlukan\n",
        "from sklearn.metrics import mean_absolute_error\n",
        "\n",
        "# Prediksi menggunakan model yang telah dilatih\n",
        "y_test_pred = best_rf_model.predict(X_test)\n",
        "\n",
        "# Hitung Mean Absolute Error (MAE)\n",
        "mae = mean_absolute_error(y_test, y_test_pred)\n",
        "print(\"Mean Absolute Error (MAE):\", mae)\n"
      ]
    },
    {
      "cell_type": "code",
      "execution_count": null,
      "metadata": {
        "id": "J5Iz9Ab3RTHW",
        "colab": {
          "base_uri": "https://localhost:8080/"
        },
        "outputId": "118b261b-c9ac-4435-bcdf-56bbf98cdee2"
      },
      "outputs": [
        {
          "output_type": "stream",
          "name": "stdout",
          "text": [
            "Mean Squared Error (MSE): 0.004358571360757747\n"
          ]
        }
      ],
      "source": [
        "# Import library yang diperlukan\n",
        "from sklearn.metrics import mean_squared_error\n",
        "\n",
        "# Prediksi menggunakan model yang telah dilatih\n",
        "y_test_pred = best_rf_model.predict(X_test)\n",
        "\n",
        "# Hitung Mean Squared Error (MSE)\n",
        "mse = mean_squared_error(y_test, y_test_pred)\n",
        "print(\"Mean Squared Error (MSE):\", mse)\n"
      ]
    },
    {
      "cell_type": "markdown",
      "source": [
        "# Versi Python"
      ],
      "metadata": {
        "id": "AgQgSFRkC46y"
      }
    },
    {
      "cell_type": "code",
      "execution_count": null,
      "metadata": {
        "id": "rFLyrajbohoz",
        "colab": {
          "base_uri": "https://localhost:8080/"
        },
        "outputId": "ff6814fc-9b53-4582-b2c5-b4daf4176469"
      },
      "outputs": [
        {
          "output_type": "stream",
          "name": "stdout",
          "text": [
            "3.10.12 (main, Nov 20 2023, 15:14:05) [GCC 11.4.0]\n"
          ]
        }
      ],
      "source": [
        "import sys\n",
        "print(sys.version)\n"
      ]
    },
    {
      "cell_type": "code",
      "execution_count": null,
      "metadata": {
        "id": "pzLxxoWgC22E"
      },
      "outputs": [],
      "source": []
    }
  ],
  "metadata": {
    "accelerator": "GPU",
    "colab": {
      "gpuType": "T4",
      "provenance": []
    },
    "kernelspec": {
      "display_name": "Python 3",
      "name": "python3"
    },
    "language_info": {
      "name": "python"
    }
  },
  "nbformat": 4,
  "nbformat_minor": 0
}